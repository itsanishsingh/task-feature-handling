{
 "cells": [
  {
   "cell_type": "markdown",
   "id": "95392244-e243-4c52-b91a-80c42261654f",
   "metadata": {},
   "source": [
    "# Feature Engineering\n",
    "Feature engineering is used to transform or create features from raw data by using domain knowledge. These features are then used by our models for optimal performance."
   ]
  },
  {
   "cell_type": "code",
   "execution_count": 1,
   "id": "a8749f1b-9648-4d7f-a104-9c5ea55d1bd8",
   "metadata": {},
   "outputs": [],
   "source": [
    "import seaborn as sns\n",
    "import pandas as pd\n",
    "import numpy as np\n",
    "from matplotlib import pyplot as plt\n",
    "from sklearn.preprocessing import StandardScaler"
   ]
  },
  {
   "cell_type": "code",
   "execution_count": 2,
   "id": "ee396883-72d0-4a75-9b7b-2ca3c7b4df04",
   "metadata": {},
   "outputs": [
    {
     "data": {
      "text/html": [
       "<div>\n",
       "<style scoped>\n",
       "    .dataframe tbody tr th:only-of-type {\n",
       "        vertical-align: middle;\n",
       "    }\n",
       "\n",
       "    .dataframe tbody tr th {\n",
       "        vertical-align: top;\n",
       "    }\n",
       "\n",
       "    .dataframe thead th {\n",
       "        text-align: right;\n",
       "    }\n",
       "</style>\n",
       "<table border=\"1\" class=\"dataframe\">\n",
       "  <thead>\n",
       "    <tr style=\"text-align: right;\">\n",
       "      <th></th>\n",
       "      <th>survived</th>\n",
       "      <th>pclass</th>\n",
       "      <th>sex</th>\n",
       "      <th>age</th>\n",
       "      <th>sibsp</th>\n",
       "      <th>parch</th>\n",
       "      <th>fare</th>\n",
       "      <th>embarked</th>\n",
       "      <th>class</th>\n",
       "      <th>who</th>\n",
       "      <th>adult_male</th>\n",
       "      <th>deck</th>\n",
       "      <th>embark_town</th>\n",
       "      <th>alive</th>\n",
       "      <th>alone</th>\n",
       "    </tr>\n",
       "  </thead>\n",
       "  <tbody>\n",
       "    <tr>\n",
       "      <th>0</th>\n",
       "      <td>0</td>\n",
       "      <td>3</td>\n",
       "      <td>male</td>\n",
       "      <td>22.0</td>\n",
       "      <td>1</td>\n",
       "      <td>0</td>\n",
       "      <td>7.2500</td>\n",
       "      <td>S</td>\n",
       "      <td>Third</td>\n",
       "      <td>man</td>\n",
       "      <td>True</td>\n",
       "      <td>NaN</td>\n",
       "      <td>Southampton</td>\n",
       "      <td>no</td>\n",
       "      <td>False</td>\n",
       "    </tr>\n",
       "    <tr>\n",
       "      <th>1</th>\n",
       "      <td>1</td>\n",
       "      <td>1</td>\n",
       "      <td>female</td>\n",
       "      <td>38.0</td>\n",
       "      <td>1</td>\n",
       "      <td>0</td>\n",
       "      <td>71.2833</td>\n",
       "      <td>C</td>\n",
       "      <td>First</td>\n",
       "      <td>woman</td>\n",
       "      <td>False</td>\n",
       "      <td>C</td>\n",
       "      <td>Cherbourg</td>\n",
       "      <td>yes</td>\n",
       "      <td>False</td>\n",
       "    </tr>\n",
       "    <tr>\n",
       "      <th>2</th>\n",
       "      <td>1</td>\n",
       "      <td>3</td>\n",
       "      <td>female</td>\n",
       "      <td>26.0</td>\n",
       "      <td>0</td>\n",
       "      <td>0</td>\n",
       "      <td>7.9250</td>\n",
       "      <td>S</td>\n",
       "      <td>Third</td>\n",
       "      <td>woman</td>\n",
       "      <td>False</td>\n",
       "      <td>NaN</td>\n",
       "      <td>Southampton</td>\n",
       "      <td>yes</td>\n",
       "      <td>True</td>\n",
       "    </tr>\n",
       "    <tr>\n",
       "      <th>3</th>\n",
       "      <td>1</td>\n",
       "      <td>1</td>\n",
       "      <td>female</td>\n",
       "      <td>35.0</td>\n",
       "      <td>1</td>\n",
       "      <td>0</td>\n",
       "      <td>53.1000</td>\n",
       "      <td>S</td>\n",
       "      <td>First</td>\n",
       "      <td>woman</td>\n",
       "      <td>False</td>\n",
       "      <td>C</td>\n",
       "      <td>Southampton</td>\n",
       "      <td>yes</td>\n",
       "      <td>False</td>\n",
       "    </tr>\n",
       "    <tr>\n",
       "      <th>4</th>\n",
       "      <td>0</td>\n",
       "      <td>3</td>\n",
       "      <td>male</td>\n",
       "      <td>35.0</td>\n",
       "      <td>0</td>\n",
       "      <td>0</td>\n",
       "      <td>8.0500</td>\n",
       "      <td>S</td>\n",
       "      <td>Third</td>\n",
       "      <td>man</td>\n",
       "      <td>True</td>\n",
       "      <td>NaN</td>\n",
       "      <td>Southampton</td>\n",
       "      <td>no</td>\n",
       "      <td>True</td>\n",
       "    </tr>\n",
       "  </tbody>\n",
       "</table>\n",
       "</div>"
      ],
      "text/plain": [
       "   survived  pclass     sex   age  sibsp  parch     fare embarked  class  \\\n",
       "0         0       3    male  22.0      1      0   7.2500        S  Third   \n",
       "1         1       1  female  38.0      1      0  71.2833        C  First   \n",
       "2         1       3  female  26.0      0      0   7.9250        S  Third   \n",
       "3         1       1  female  35.0      1      0  53.1000        S  First   \n",
       "4         0       3    male  35.0      0      0   8.0500        S  Third   \n",
       "\n",
       "     who  adult_male deck  embark_town alive  alone  \n",
       "0    man        True  NaN  Southampton    no  False  \n",
       "1  woman       False    C    Cherbourg   yes  False  \n",
       "2  woman       False  NaN  Southampton   yes   True  \n",
       "3  woman       False    C  Southampton   yes  False  \n",
       "4    man        True  NaN  Southampton    no   True  "
      ]
     },
     "execution_count": 2,
     "metadata": {},
     "output_type": "execute_result"
    }
   ],
   "source": [
    "df = sns.load_dataset('titanic')\n",
    "df.head()"
   ]
  },
  {
   "cell_type": "code",
   "execution_count": 3,
   "id": "fb7dae2b-2a33-4851-a417-fb504051b78e",
   "metadata": {},
   "outputs": [
    {
     "name": "stdout",
     "output_type": "stream",
     "text": [
      "<class 'pandas.core.frame.DataFrame'>\n",
      "RangeIndex: 891 entries, 0 to 890\n",
      "Data columns (total 15 columns):\n",
      " #   Column       Non-Null Count  Dtype   \n",
      "---  ------       --------------  -----   \n",
      " 0   survived     891 non-null    int64   \n",
      " 1   pclass       891 non-null    int64   \n",
      " 2   sex          891 non-null    object  \n",
      " 3   age          714 non-null    float64 \n",
      " 4   sibsp        891 non-null    int64   \n",
      " 5   parch        891 non-null    int64   \n",
      " 6   fare         891 non-null    float64 \n",
      " 7   embarked     889 non-null    object  \n",
      " 8   class        891 non-null    category\n",
      " 9   who          891 non-null    object  \n",
      " 10  adult_male   891 non-null    bool    \n",
      " 11  deck         203 non-null    category\n",
      " 12  embark_town  889 non-null    object  \n",
      " 13  alive        891 non-null    object  \n",
      " 14  alone        891 non-null    bool    \n",
      "dtypes: bool(2), category(2), float64(2), int64(4), object(5)\n",
      "memory usage: 80.7+ KB\n"
     ]
    }
   ],
   "source": [
    "df.info()"
   ]
  },
  {
   "cell_type": "code",
   "execution_count": 4,
   "id": "f0fc1095-6be5-4031-a533-cdc41c7d8ede",
   "metadata": {},
   "outputs": [
    {
     "data": {
      "text/plain": [
       "survived         0\n",
       "pclass           0\n",
       "sex              0\n",
       "age            177\n",
       "sibsp            0\n",
       "parch            0\n",
       "fare             0\n",
       "embarked         2\n",
       "class            0\n",
       "who              0\n",
       "adult_male       0\n",
       "deck           688\n",
       "embark_town      2\n",
       "alive            0\n",
       "alone            0\n",
       "dtype: int64"
      ]
     },
     "execution_count": 4,
     "metadata": {},
     "output_type": "execute_result"
    }
   ],
   "source": [
    "df.isnull().sum()"
   ]
  },
  {
   "cell_type": "markdown",
   "id": "cb049a0f-f0b4-4753-9306-0badd1e04144",
   "metadata": {},
   "source": [
    "From the above desciptions, we can see that have missing values which we have to deal with at start. We do this first beacause our algorithms do not take null value"
   ]
  },
  {
   "cell_type": "markdown",
   "id": "0ddd7080-3b4b-4976-b166-0d8581438bc1",
   "metadata": {},
   "source": [
    "# Handling Missing Values\n",
    "We will use various imputation methods to deal with missing values like\n",
    "* mean\n",
    "* median\n",
    "* mode"
   ]
  },
  {
   "cell_type": "code",
   "execution_count": 5,
   "id": "bfeb885a-377a-4329-88a9-8f6a7d12b1bc",
   "metadata": {},
   "outputs": [
    {
     "name": "stdout",
     "output_type": "stream",
     "text": [
      "29.69911764705882 28.0 0    24.0\n",
      "Name: age, dtype: float64\n"
     ]
    }
   ],
   "source": [
    "age_mean = df.age.mean()\n",
    "age_median = df.age.median()\n",
    "age_mode = df.age.mode()\n",
    "\n",
    "print(age_mean, age_median, age_mode)"
   ]
  },
  {
   "cell_type": "markdown",
   "id": "32fea872-d9c1-40ae-88f3-549e9640d646",
   "metadata": {},
   "source": [
    "Above we have our mean, median and mode of age respectively. We will use median to fill our values"
   ]
  },
  {
   "cell_type": "code",
   "execution_count": 6,
   "id": "2405f5f7-65de-422c-82a5-008c5de9ea27",
   "metadata": {},
   "outputs": [],
   "source": [
    "df.age = df.age.fillna(age_median)"
   ]
  },
  {
   "cell_type": "code",
   "execution_count": 7,
   "id": "2afd32bf-4385-402e-ab64-96fcd3993ea4",
   "metadata": {},
   "outputs": [
    {
     "data": {
      "text/plain": [
       "survived         0\n",
       "pclass           0\n",
       "sex              0\n",
       "age              0\n",
       "sibsp            0\n",
       "parch            0\n",
       "fare             0\n",
       "embarked         2\n",
       "class            0\n",
       "who              0\n",
       "adult_male       0\n",
       "deck           688\n",
       "embark_town      2\n",
       "alive            0\n",
       "alone            0\n",
       "dtype: int64"
      ]
     },
     "execution_count": 7,
     "metadata": {},
     "output_type": "execute_result"
    }
   ],
   "source": [
    "df.isnull().sum()"
   ]
  },
  {
   "cell_type": "markdown",
   "id": "fcfbd4db-9595-4608-9af2-2ef727dd4886",
   "metadata": {},
   "source": [
    "As we can see our missing age values are dealt with. Now we see that we have embarked and embarked_town where 2 values are missing, as these are relatively small records, we can drop them."
   ]
  },
  {
   "cell_type": "code",
   "execution_count": 8,
   "id": "2dbf9f88-62df-4332-8f77-1efb626b2732",
   "metadata": {},
   "outputs": [],
   "source": [
    "df = df.dropna(subset=[\"embarked\", \"embark_town\"])"
   ]
  },
  {
   "cell_type": "code",
   "execution_count": 9,
   "id": "7b6b0b3c-cbaf-4781-9c18-1cfa7e10d6ae",
   "metadata": {},
   "outputs": [
    {
     "data": {
      "text/plain": [
       "survived         0\n",
       "pclass           0\n",
       "sex              0\n",
       "age              0\n",
       "sibsp            0\n",
       "parch            0\n",
       "fare             0\n",
       "embarked         0\n",
       "class            0\n",
       "who              0\n",
       "adult_male       0\n",
       "deck           688\n",
       "embark_town      0\n",
       "alive            0\n",
       "alone            0\n",
       "dtype: int64"
      ]
     },
     "execution_count": 9,
     "metadata": {},
     "output_type": "execute_result"
    }
   ],
   "source": [
    "df.isnull().sum()"
   ]
  },
  {
   "cell_type": "markdown",
   "id": "1802628a-9758-4202-91a9-84673a6e8e36",
   "metadata": {},
   "source": [
    "We can now see that we only deck to deal with. Lets see the values of deck"
   ]
  },
  {
   "cell_type": "code",
   "execution_count": 10,
   "id": "7f96b9c9-24c2-407e-b556-e1e95294d658",
   "metadata": {},
   "outputs": [
    {
     "data": {
      "text/plain": [
       "[nan, 'C', 'E', 'G', 'D', 'A', 'B', 'F']"
      ]
     },
     "execution_count": 10,
     "metadata": {},
     "output_type": "execute_result"
    }
   ],
   "source": [
    "deck_values = df.deck.unique()\n",
    "list(deck_values)"
   ]
  },
  {
   "cell_type": "markdown",
   "id": "8da0cff9-6aed-497f-b646-560c25c058c1",
   "metadata": {},
   "source": [
    "## Encoding categorical data\n",
    "We can use this categorical data to transform this into numbers so our algorithm can use it. We will use a mapping function for it."
   ]
  },
  {
   "cell_type": "code",
   "execution_count": 11,
   "id": "ff50c235-0c2a-46fc-9d74-bc08f96508bd",
   "metadata": {},
   "outputs": [],
   "source": [
    "def deck_mapper(x):\n",
    "    deck_dict = {\"A\": 1, \"B\": 2, \"C\": 3, \"D\": 4, \"E\":5, \"F\": 6, \"G\": 7}\n",
    "    if x:\n",
    "        return deck_dict[x.upper()]\n",
    "\n",
    "df.deck = df.deck.apply(deck_mapper)\n",
    "df = df.fillna(value=0, axis=1)"
   ]
  },
  {
   "cell_type": "code",
   "execution_count": 12,
   "id": "6b7b0676-304b-4127-ae3a-41faf2beddd6",
   "metadata": {},
   "outputs": [
    {
     "data": {
      "text/plain": [
       "survived       0\n",
       "pclass         0\n",
       "sex            0\n",
       "age            0\n",
       "sibsp          0\n",
       "parch          0\n",
       "fare           0\n",
       "embarked       0\n",
       "class          0\n",
       "who            0\n",
       "adult_male     0\n",
       "deck           0\n",
       "embark_town    0\n",
       "alive          0\n",
       "alone          0\n",
       "dtype: int64"
      ]
     },
     "execution_count": 12,
     "metadata": {},
     "output_type": "execute_result"
    }
   ],
   "source": [
    "df.isnull().sum()"
   ]
  },
  {
   "cell_type": "markdown",
   "id": "0a7e140b-a933-4651-a423-837e4db47bdd",
   "metadata": {},
   "source": [
    "As we can see, now we have no missing values. Lets move on to the next step."
   ]
  },
  {
   "cell_type": "markdown",
   "id": "a114ed0e-e4c2-4f32-ad61-83c8e9011599",
   "metadata": {},
   "source": [
    "# Feature Scaling\n",
    "This process deals with converting the scales of our features into a common or similar scale, so that when we have features with vastly different scales, our algorithm's performance won't be affected. This process is also called z-score normalisation."
   ]
  },
  {
   "cell_type": "code",
   "execution_count": 13,
   "id": "c1375b70-9af7-4c61-a016-bffe2075d6e1",
   "metadata": {},
   "outputs": [
    {
     "data": {
      "text/html": [
       "<div>\n",
       "<style scoped>\n",
       "    .dataframe tbody tr th:only-of-type {\n",
       "        vertical-align: middle;\n",
       "    }\n",
       "\n",
       "    .dataframe tbody tr th {\n",
       "        vertical-align: top;\n",
       "    }\n",
       "\n",
       "    .dataframe thead th {\n",
       "        text-align: right;\n",
       "    }\n",
       "</style>\n",
       "<table border=\"1\" class=\"dataframe\">\n",
       "  <thead>\n",
       "    <tr style=\"text-align: right;\">\n",
       "      <th></th>\n",
       "      <th>total</th>\n",
       "      <th>speeding</th>\n",
       "      <th>alcohol</th>\n",
       "      <th>not_distracted</th>\n",
       "      <th>no_previous</th>\n",
       "      <th>ins_premium</th>\n",
       "      <th>ins_losses</th>\n",
       "      <th>abbrev</th>\n",
       "    </tr>\n",
       "  </thead>\n",
       "  <tbody>\n",
       "    <tr>\n",
       "      <th>0</th>\n",
       "      <td>18.8</td>\n",
       "      <td>7.332</td>\n",
       "      <td>5.640</td>\n",
       "      <td>18.048</td>\n",
       "      <td>15.040</td>\n",
       "      <td>784.55</td>\n",
       "      <td>145.08</td>\n",
       "      <td>AL</td>\n",
       "    </tr>\n",
       "    <tr>\n",
       "      <th>1</th>\n",
       "      <td>18.1</td>\n",
       "      <td>7.421</td>\n",
       "      <td>4.525</td>\n",
       "      <td>16.290</td>\n",
       "      <td>17.014</td>\n",
       "      <td>1053.48</td>\n",
       "      <td>133.93</td>\n",
       "      <td>AK</td>\n",
       "    </tr>\n",
       "    <tr>\n",
       "      <th>2</th>\n",
       "      <td>18.6</td>\n",
       "      <td>6.510</td>\n",
       "      <td>5.208</td>\n",
       "      <td>15.624</td>\n",
       "      <td>17.856</td>\n",
       "      <td>899.47</td>\n",
       "      <td>110.35</td>\n",
       "      <td>AZ</td>\n",
       "    </tr>\n",
       "    <tr>\n",
       "      <th>3</th>\n",
       "      <td>22.4</td>\n",
       "      <td>4.032</td>\n",
       "      <td>5.824</td>\n",
       "      <td>21.056</td>\n",
       "      <td>21.280</td>\n",
       "      <td>827.34</td>\n",
       "      <td>142.39</td>\n",
       "      <td>AR</td>\n",
       "    </tr>\n",
       "    <tr>\n",
       "      <th>4</th>\n",
       "      <td>12.0</td>\n",
       "      <td>4.200</td>\n",
       "      <td>3.360</td>\n",
       "      <td>10.920</td>\n",
       "      <td>10.680</td>\n",
       "      <td>878.41</td>\n",
       "      <td>165.63</td>\n",
       "      <td>CA</td>\n",
       "    </tr>\n",
       "  </tbody>\n",
       "</table>\n",
       "</div>"
      ],
      "text/plain": [
       "   total  speeding  alcohol  not_distracted  no_previous  ins_premium  \\\n",
       "0   18.8     7.332    5.640          18.048       15.040       784.55   \n",
       "1   18.1     7.421    4.525          16.290       17.014      1053.48   \n",
       "2   18.6     6.510    5.208          15.624       17.856       899.47   \n",
       "3   22.4     4.032    5.824          21.056       21.280       827.34   \n",
       "4   12.0     4.200    3.360          10.920       10.680       878.41   \n",
       "\n",
       "   ins_losses abbrev  \n",
       "0      145.08     AL  \n",
       "1      133.93     AK  \n",
       "2      110.35     AZ  \n",
       "3      142.39     AR  \n",
       "4      165.63     CA  "
      ]
     },
     "execution_count": 13,
     "metadata": {},
     "output_type": "execute_result"
    }
   ],
   "source": [
    "df = sns.load_dataset('car_crashes')\n",
    "df.head()"
   ]
  },
  {
   "cell_type": "markdown",
   "id": "1e7e3dee-58bc-41ac-bc22-e4250fe461de",
   "metadata": {},
   "source": [
    "Here we have a dataset with features having different scales. We will apply scaling on each of them. These numbers include percent of total drivers and the value in dollars."
   ]
  },
  {
   "cell_type": "code",
   "execution_count": 14,
   "id": "28221b38-8da7-4bf6-8ac9-97ec8acb65a8",
   "metadata": {},
   "outputs": [],
   "source": [
    "scaler = StandardScaler()\n",
    "scaler.fit(df.iloc[:, :-1])\n",
    "df_scaled = scaler.transform(df.iloc[:, :-1])\n",
    "df_scaled = pd.DataFrame(df_scaled, columns=df.columns[:-1])"
   ]
  },
  {
   "cell_type": "code",
   "execution_count": 15,
   "id": "2e14640e-9b80-4d39-a85d-cf50b802ed41",
   "metadata": {},
   "outputs": [
    {
     "data": {
      "text/html": [
       "<div>\n",
       "<style scoped>\n",
       "    .dataframe tbody tr th:only-of-type {\n",
       "        vertical-align: middle;\n",
       "    }\n",
       "\n",
       "    .dataframe tbody tr th {\n",
       "        vertical-align: top;\n",
       "    }\n",
       "\n",
       "    .dataframe thead th {\n",
       "        text-align: right;\n",
       "    }\n",
       "</style>\n",
       "<table border=\"1\" class=\"dataframe\">\n",
       "  <thead>\n",
       "    <tr style=\"text-align: right;\">\n",
       "      <th></th>\n",
       "      <th>total</th>\n",
       "      <th>speeding</th>\n",
       "      <th>alcohol</th>\n",
       "      <th>not_distracted</th>\n",
       "      <th>no_previous</th>\n",
       "      <th>ins_premium</th>\n",
       "      <th>ins_losses</th>\n",
       "    </tr>\n",
       "  </thead>\n",
       "  <tbody>\n",
       "    <tr>\n",
       "      <th>0</th>\n",
       "      <td>0.737446</td>\n",
       "      <td>1.168148</td>\n",
       "      <td>0.439938</td>\n",
       "      <td>1.002301</td>\n",
       "      <td>0.277692</td>\n",
       "      <td>-0.580083</td>\n",
       "      <td>0.430514</td>\n",
       "    </tr>\n",
       "    <tr>\n",
       "      <th>1</th>\n",
       "      <td>0.565936</td>\n",
       "      <td>1.212695</td>\n",
       "      <td>-0.211311</td>\n",
       "      <td>0.608532</td>\n",
       "      <td>0.807258</td>\n",
       "      <td>0.943258</td>\n",
       "      <td>-0.022900</td>\n",
       "    </tr>\n",
       "    <tr>\n",
       "      <th>2</th>\n",
       "      <td>0.688443</td>\n",
       "      <td>0.756709</td>\n",
       "      <td>0.187615</td>\n",
       "      <td>0.459357</td>\n",
       "      <td>1.033141</td>\n",
       "      <td>0.070876</td>\n",
       "      <td>-0.981778</td>\n",
       "    </tr>\n",
       "    <tr>\n",
       "      <th>3</th>\n",
       "      <td>1.619498</td>\n",
       "      <td>-0.483614</td>\n",
       "      <td>0.547408</td>\n",
       "      <td>1.676052</td>\n",
       "      <td>1.951700</td>\n",
       "      <td>-0.337701</td>\n",
       "      <td>0.321125</td>\n",
       "    </tr>\n",
       "    <tr>\n",
       "      <th>4</th>\n",
       "      <td>-0.928653</td>\n",
       "      <td>-0.399524</td>\n",
       "      <td>-0.891763</td>\n",
       "      <td>-0.594276</td>\n",
       "      <td>-0.891968</td>\n",
       "      <td>-0.048418</td>\n",
       "      <td>1.266178</td>\n",
       "    </tr>\n",
       "  </tbody>\n",
       "</table>\n",
       "</div>"
      ],
      "text/plain": [
       "      total  speeding   alcohol  not_distracted  no_previous  ins_premium  \\\n",
       "0  0.737446  1.168148  0.439938        1.002301     0.277692    -0.580083   \n",
       "1  0.565936  1.212695 -0.211311        0.608532     0.807258     0.943258   \n",
       "2  0.688443  0.756709  0.187615        0.459357     1.033141     0.070876   \n",
       "3  1.619498 -0.483614  0.547408        1.676052     1.951700    -0.337701   \n",
       "4 -0.928653 -0.399524 -0.891763       -0.594276    -0.891968    -0.048418   \n",
       "\n",
       "   ins_losses  \n",
       "0    0.430514  \n",
       "1   -0.022900  \n",
       "2   -0.981778  \n",
       "3    0.321125  \n",
       "4    1.266178  "
      ]
     },
     "execution_count": 15,
     "metadata": {},
     "output_type": "execute_result"
    }
   ],
   "source": [
    "df_scaled.head()"
   ]
  },
  {
   "cell_type": "code",
   "execution_count": 16,
   "id": "30d73bd5-efbe-42bd-886b-cc1f866752df",
   "metadata": {},
   "outputs": [
    {
     "data": {
      "text/html": [
       "<div>\n",
       "<style scoped>\n",
       "    .dataframe tbody tr th:only-of-type {\n",
       "        vertical-align: middle;\n",
       "    }\n",
       "\n",
       "    .dataframe tbody tr th {\n",
       "        vertical-align: top;\n",
       "    }\n",
       "\n",
       "    .dataframe thead th {\n",
       "        text-align: right;\n",
       "    }\n",
       "</style>\n",
       "<table border=\"1\" class=\"dataframe\">\n",
       "  <thead>\n",
       "    <tr style=\"text-align: right;\">\n",
       "      <th></th>\n",
       "      <th>total</th>\n",
       "      <th>speeding</th>\n",
       "      <th>alcohol</th>\n",
       "      <th>not_distracted</th>\n",
       "      <th>no_previous</th>\n",
       "      <th>ins_premium</th>\n",
       "      <th>ins_losses</th>\n",
       "    </tr>\n",
       "  </thead>\n",
       "  <tbody>\n",
       "    <tr>\n",
       "      <th>count</th>\n",
       "      <td>51.000000</td>\n",
       "      <td>51.000000</td>\n",
       "      <td>51.000000</td>\n",
       "      <td>51.000000</td>\n",
       "      <td>51.000000</td>\n",
       "      <td>51.000000</td>\n",
       "      <td>51.000000</td>\n",
       "    </tr>\n",
       "    <tr>\n",
       "      <th>mean</th>\n",
       "      <td>15.790196</td>\n",
       "      <td>4.998196</td>\n",
       "      <td>4.886784</td>\n",
       "      <td>13.573176</td>\n",
       "      <td>14.004882</td>\n",
       "      <td>886.957647</td>\n",
       "      <td>134.493137</td>\n",
       "    </tr>\n",
       "    <tr>\n",
       "      <th>std</th>\n",
       "      <td>4.122002</td>\n",
       "      <td>2.017747</td>\n",
       "      <td>1.729133</td>\n",
       "      <td>4.508977</td>\n",
       "      <td>3.764672</td>\n",
       "      <td>178.296285</td>\n",
       "      <td>24.835922</td>\n",
       "    </tr>\n",
       "    <tr>\n",
       "      <th>min</th>\n",
       "      <td>5.900000</td>\n",
       "      <td>1.792000</td>\n",
       "      <td>1.593000</td>\n",
       "      <td>1.760000</td>\n",
       "      <td>5.900000</td>\n",
       "      <td>641.960000</td>\n",
       "      <td>82.750000</td>\n",
       "    </tr>\n",
       "    <tr>\n",
       "      <th>25%</th>\n",
       "      <td>12.750000</td>\n",
       "      <td>3.766500</td>\n",
       "      <td>3.894000</td>\n",
       "      <td>10.478000</td>\n",
       "      <td>11.348000</td>\n",
       "      <td>768.430000</td>\n",
       "      <td>114.645000</td>\n",
       "    </tr>\n",
       "    <tr>\n",
       "      <th>50%</th>\n",
       "      <td>15.600000</td>\n",
       "      <td>4.608000</td>\n",
       "      <td>4.554000</td>\n",
       "      <td>13.857000</td>\n",
       "      <td>13.775000</td>\n",
       "      <td>858.970000</td>\n",
       "      <td>136.050000</td>\n",
       "    </tr>\n",
       "    <tr>\n",
       "      <th>75%</th>\n",
       "      <td>18.500000</td>\n",
       "      <td>6.439000</td>\n",
       "      <td>5.604000</td>\n",
       "      <td>16.140000</td>\n",
       "      <td>16.755000</td>\n",
       "      <td>1007.945000</td>\n",
       "      <td>151.870000</td>\n",
       "    </tr>\n",
       "    <tr>\n",
       "      <th>max</th>\n",
       "      <td>23.900000</td>\n",
       "      <td>9.450000</td>\n",
       "      <td>10.038000</td>\n",
       "      <td>23.661000</td>\n",
       "      <td>21.280000</td>\n",
       "      <td>1301.520000</td>\n",
       "      <td>194.780000</td>\n",
       "    </tr>\n",
       "  </tbody>\n",
       "</table>\n",
       "</div>"
      ],
      "text/plain": [
       "           total   speeding    alcohol  not_distracted  no_previous  \\\n",
       "count  51.000000  51.000000  51.000000       51.000000    51.000000   \n",
       "mean   15.790196   4.998196   4.886784       13.573176    14.004882   \n",
       "std     4.122002   2.017747   1.729133        4.508977     3.764672   \n",
       "min     5.900000   1.792000   1.593000        1.760000     5.900000   \n",
       "25%    12.750000   3.766500   3.894000       10.478000    11.348000   \n",
       "50%    15.600000   4.608000   4.554000       13.857000    13.775000   \n",
       "75%    18.500000   6.439000   5.604000       16.140000    16.755000   \n",
       "max    23.900000   9.450000  10.038000       23.661000    21.280000   \n",
       "\n",
       "       ins_premium  ins_losses  \n",
       "count    51.000000   51.000000  \n",
       "mean    886.957647  134.493137  \n",
       "std     178.296285   24.835922  \n",
       "min     641.960000   82.750000  \n",
       "25%     768.430000  114.645000  \n",
       "50%     858.970000  136.050000  \n",
       "75%    1007.945000  151.870000  \n",
       "max    1301.520000  194.780000  "
      ]
     },
     "execution_count": 16,
     "metadata": {},
     "output_type": "execute_result"
    }
   ],
   "source": [
    "df.describe()"
   ]
  },
  {
   "cell_type": "code",
   "execution_count": 17,
   "id": "1342c5da-0248-48cc-87dd-7cf6a9f4f798",
   "metadata": {},
   "outputs": [
    {
     "data": {
      "text/html": [
       "<div>\n",
       "<style scoped>\n",
       "    .dataframe tbody tr th:only-of-type {\n",
       "        vertical-align: middle;\n",
       "    }\n",
       "\n",
       "    .dataframe tbody tr th {\n",
       "        vertical-align: top;\n",
       "    }\n",
       "\n",
       "    .dataframe thead th {\n",
       "        text-align: right;\n",
       "    }\n",
       "</style>\n",
       "<table border=\"1\" class=\"dataframe\">\n",
       "  <thead>\n",
       "    <tr style=\"text-align: right;\">\n",
       "      <th></th>\n",
       "      <th>total</th>\n",
       "      <th>speeding</th>\n",
       "      <th>alcohol</th>\n",
       "      <th>not_distracted</th>\n",
       "      <th>no_previous</th>\n",
       "      <th>ins_premium</th>\n",
       "      <th>ins_losses</th>\n",
       "    </tr>\n",
       "  </thead>\n",
       "  <tbody>\n",
       "    <tr>\n",
       "      <th>count</th>\n",
       "      <td>5.100000e+01</td>\n",
       "      <td>5.100000e+01</td>\n",
       "      <td>5.100000e+01</td>\n",
       "      <td>5.100000e+01</td>\n",
       "      <td>5.100000e+01</td>\n",
       "      <td>5.100000e+01</td>\n",
       "      <td>5.100000e+01</td>\n",
       "    </tr>\n",
       "    <tr>\n",
       "      <th>mean</th>\n",
       "      <td>6.291264e-16</td>\n",
       "      <td>-8.707632e-18</td>\n",
       "      <td>-1.730642e-16</td>\n",
       "      <td>-3.858569e-16</td>\n",
       "      <td>-1.534720e-16</td>\n",
       "      <td>3.635436e-16</td>\n",
       "      <td>-2.068062e-16</td>\n",
       "    </tr>\n",
       "    <tr>\n",
       "      <th>std</th>\n",
       "      <td>1.009950e+00</td>\n",
       "      <td>1.009950e+00</td>\n",
       "      <td>1.009950e+00</td>\n",
       "      <td>1.009950e+00</td>\n",
       "      <td>1.009950e+00</td>\n",
       "      <td>1.009950e+00</td>\n",
       "      <td>1.009950e+00</td>\n",
       "    </tr>\n",
       "    <tr>\n",
       "      <th>min</th>\n",
       "      <td>-2.423242e+00</td>\n",
       "      <td>-1.604809e+00</td>\n",
       "      <td>-1.923831e+00</td>\n",
       "      <td>-2.645993e+00</td>\n",
       "      <td>-2.174301e+00</td>\n",
       "      <td>-1.387777e+00</td>\n",
       "      <td>-2.104130e+00</td>\n",
       "    </tr>\n",
       "    <tr>\n",
       "      <th>25%</th>\n",
       "      <td>-7.448923e-01</td>\n",
       "      <td>-6.165054e-01</td>\n",
       "      <td>-5.798646e-01</td>\n",
       "      <td>-6.932781e-01</td>\n",
       "      <td>-7.127632e-01</td>\n",
       "      <td>-6.713940e-01</td>\n",
       "      <td>-8.071227e-01</td>\n",
       "    </tr>\n",
       "    <tr>\n",
       "      <th>50%</th>\n",
       "      <td>-4.660081e-02</td>\n",
       "      <td>-1.953063e-01</td>\n",
       "      <td>-1.943724e-01</td>\n",
       "      <td>6.357267e-02</td>\n",
       "      <td>-6.167066e-02</td>\n",
       "      <td>-1.585346e-01</td>\n",
       "      <td>6.330968e-02</td>\n",
       "    </tr>\n",
       "    <tr>\n",
       "      <th>75%</th>\n",
       "      <td>6.639414e-01</td>\n",
       "      <td>7.211710e-01</td>\n",
       "      <td>4.189107e-01</td>\n",
       "      <td>5.749341e-01</td>\n",
       "      <td>7.377755e-01</td>\n",
       "      <td>6.853269e-01</td>\n",
       "      <td>7.066285e-01</td>\n",
       "    </tr>\n",
       "    <tr>\n",
       "      <th>max</th>\n",
       "      <td>1.987020e+00</td>\n",
       "      <td>2.228278e+00</td>\n",
       "      <td>3.008718e+00</td>\n",
       "      <td>2.259537e+00</td>\n",
       "      <td>1.951700e+00</td>\n",
       "      <td>2.348268e+00</td>\n",
       "      <td>2.451560e+00</td>\n",
       "    </tr>\n",
       "  </tbody>\n",
       "</table>\n",
       "</div>"
      ],
      "text/plain": [
       "              total      speeding       alcohol  not_distracted   no_previous  \\\n",
       "count  5.100000e+01  5.100000e+01  5.100000e+01    5.100000e+01  5.100000e+01   \n",
       "mean   6.291264e-16 -8.707632e-18 -1.730642e-16   -3.858569e-16 -1.534720e-16   \n",
       "std    1.009950e+00  1.009950e+00  1.009950e+00    1.009950e+00  1.009950e+00   \n",
       "min   -2.423242e+00 -1.604809e+00 -1.923831e+00   -2.645993e+00 -2.174301e+00   \n",
       "25%   -7.448923e-01 -6.165054e-01 -5.798646e-01   -6.932781e-01 -7.127632e-01   \n",
       "50%   -4.660081e-02 -1.953063e-01 -1.943724e-01    6.357267e-02 -6.167066e-02   \n",
       "75%    6.639414e-01  7.211710e-01  4.189107e-01    5.749341e-01  7.377755e-01   \n",
       "max    1.987020e+00  2.228278e+00  3.008718e+00    2.259537e+00  1.951700e+00   \n",
       "\n",
       "        ins_premium    ins_losses  \n",
       "count  5.100000e+01  5.100000e+01  \n",
       "mean   3.635436e-16 -2.068062e-16  \n",
       "std    1.009950e+00  1.009950e+00  \n",
       "min   -1.387777e+00 -2.104130e+00  \n",
       "25%   -6.713940e-01 -8.071227e-01  \n",
       "50%   -1.585346e-01  6.330968e-02  \n",
       "75%    6.853269e-01  7.066285e-01  \n",
       "max    2.348268e+00  2.451560e+00  "
      ]
     },
     "execution_count": 17,
     "metadata": {},
     "output_type": "execute_result"
    }
   ],
   "source": [
    "df_scaled.describe()"
   ]
  },
  {
   "cell_type": "markdown",
   "id": "7274e783-e81e-423b-96c8-8880096c81e0",
   "metadata": {},
   "source": [
    "We now have made the scaling of all these data same. We can see that mean is near 0 and standard deviation is near 1.We now have only one task left."
   ]
  },
  {
   "cell_type": "markdown",
   "id": "a9a81cf2-352b-488e-ace4-aaf4706197eb",
   "metadata": {},
   "source": [
    "# Outliers\n",
    "Outliers are anomalies within our data which do not conform to the rules of their respective feature. We have to deal with them as they have the potential to create bias in our model with their presence."
   ]
  },
  {
   "cell_type": "code",
   "execution_count": 18,
   "id": "4177e08a-98da-4783-8440-a5f5c74d2805",
   "metadata": {},
   "outputs": [
    {
     "data": {
      "text/plain": [
       "<Axes: >"
      ]
     },
     "execution_count": 18,
     "metadata": {},
     "output_type": "execute_result"
    },
    {
     "data": {
      "image/png": "[encoded data removed]",
      "text/plain": [
       "<Figure size 640x480 with 1 Axes>"
      ]
     },
     "metadata": {},
     "output_type": "display_data"
    }
   ],
   "source": [
    "uncleaned_data = [12, 14, 15, 15, 16, 17, 18, 19, 20, 21, 21, 22, 22, 23, 23, 24, 25, 26, 27, 28, 29, 30, 31, 32, 33, 34, 35, 200, 210, 220]\n",
    "sns.boxplot(uncleaned_data)"
   ]
  },
  {
   "cell_type": "markdown",
   "id": "71d1033f-cfc6-45e5-b729-dde7779347f3",
   "metadata": {},
   "source": [
    "From our boxplot alone it is quiet clear that we have outliers within our data. To deal with them we will IQR method. This method creates lower and upper whiskers which operate as bounds and if a value is out of this bound then it is classified as an outlier."
   ]
  },
  {
   "cell_type": "code",
   "execution_count": 19,
   "id": "db0d2a74-c1fb-42ac-b1cf-16814ad47cb0",
   "metadata": {},
   "outputs": [
    {
     "name": "stdout",
     "output_type": "stream",
     "text": [
      "19.0 24 32 13.0\n"
     ]
    }
   ],
   "source": [
    "def find_median(records, length):\n",
    "    if not length % 2:\n",
    "        median_index = int(length/2)\n",
    "        median = records[median_index]\n",
    "    else:\n",
    "        median_indexes = int(length/2), int(length/2) + 1\n",
    "        median = (records[median_indexes[0]] + records[median_indexes[0]]) / 2\n",
    "    return median\n",
    "\n",
    "def return_iqr(records, length):\n",
    "    q2_of_records = find_median(records, length)\n",
    "\n",
    "    q1_of_records = [ele for ele in records if ele < q2_of_records]\n",
    "    total_q1 = len(q1_of_records)\n",
    "    q1_median = find_median(q1_of_records, total_q1)\n",
    "\n",
    "    q3_of_records = [ele for ele in records if ele > q2_of_records]\n",
    "    total_q3 = len(q3_of_records)\n",
    "    q3_median = find_median(q3_of_records, total_q3)\n",
    "\n",
    "    return q1_median, q2_of_records, q3_median\n",
    "\n",
    "q1_median, q2_median, q3_median = return_iqr(uncleaned_data, len(uncleaned_data))\n",
    "iqr = q3_median - q1_median\n",
    "print(q1_median, q2_median, q3_median, iqr)"
   ]
  },
  {
   "cell_type": "markdown",
   "id": "bd271704-b5b4-463e-95ae-dcae3744fc17",
   "metadata": {},
   "source": [
    "These values represent our 25th percentile, 50th percentile, 75th percentile and iqr respectively. We will now create lower whisker and upper whisker."
   ]
  },
  {
   "cell_type": "code",
   "execution_count": 20,
   "id": "a27afa9f-0bf5-4228-ae4a-ad617244c149",
   "metadata": {},
   "outputs": [
    {
     "name": "stdout",
     "output_type": "stream",
     "text": [
      "12 51.5\n"
     ]
    }
   ],
   "source": [
    "lw = max(min(uncleaned_data), q1_median - 1.5*iqr)\n",
    "uw = min(max(uncleaned_data), q3_median + 1.5*iqr)\n",
    "print(lw, uw)"
   ]
  },
  {
   "cell_type": "markdown",
   "id": "5051a991-21e2-413c-8e1a-caf7d89db5de",
   "metadata": {},
   "source": [
    "These values represent our lower bounds and upper bounds. Lets filter our data."
   ]
  },
  {
   "cell_type": "code",
   "execution_count": 21,
   "id": "897ccacc-8993-4c7e-9b1f-0f295c466346",
   "metadata": {},
   "outputs": [
    {
     "data": {
      "text/plain": [
       "[12,\n",
       " 14,\n",
       " 15,\n",
       " 15,\n",
       " 16,\n",
       " 17,\n",
       " 18,\n",
       " 19,\n",
       " 20,\n",
       " 21,\n",
       " 21,\n",
       " 22,\n",
       " 22,\n",
       " 23,\n",
       " 23,\n",
       " 24,\n",
       " 25,\n",
       " 26,\n",
       " 27,\n",
       " 28,\n",
       " 29,\n",
       " 30,\n",
       " 31,\n",
       " 32,\n",
       " 33,\n",
       " 34,\n",
       " 35]"
      ]
     },
     "execution_count": 21,
     "metadata": {},
     "output_type": "execute_result"
    }
   ],
   "source": [
    "cleaned_data = [ele for ele in uncleaned_data if lw<=ele<=uw]\n",
    "cleaned_data"
   ]
  },
  {
   "cell_type": "markdown",
   "id": "9066fe8d-16db-4286-b9ac-7e26af838b22",
   "metadata": {},
   "source": [
    "We can verify the filter by running boxplot on it."
   ]
  },
  {
   "cell_type": "code",
   "execution_count": 22,
   "id": "eb49cdd6-4e1c-4af5-a02d-4a89ff89aea0",
   "metadata": {},
   "outputs": [
    {
     "data": {
      "text/plain": [
       "<Axes: >"
      ]
     },
     "execution_count": 22,
     "metadata": {},
     "output_type": "execute_result"
    },
    {
     "data": {
      "image/png": "[encoded data removed]",
      "text/plain": [
       "<Figure size 640x480 with 1 Axes>"
      ]
     },
     "metadata": {},
     "output_type": "display_data"
    }
   ],
   "source": [
    "sns.boxplot(cleaned_data)"
   ]
  },
  {
   "cell_type": "markdown",
   "id": "253b5ab0-e180-49f5-8caf-2b4b60ead5e6",
   "metadata": {},
   "source": [
    "We now have gotten rid of outliers"
   ]
  },
  {
   "cell_type": "code",
   "execution_count": null,
   "id": "d4334bf2-a029-494a-8efd-1ecc695d7046",
   "metadata": {},
   "outputs": [],
   "source": []
  }
 ],
 "metadata": {
  "kernelspec": {
   "display_name": "Python 3 (ipykernel)",
   "language": "python",
   "name": "python3"
  },
  "language_info": {
   "codemirror_mode": {
    "name": "ipython",
    "version": 3
   },
   "file_extension": ".py",
   "mimetype": "text/x-python",
   "name": "python",
   "nbconvert_exporter": "python",
   "pygments_lexer": "ipython3",
   "version": "3.12.2"
  }
 },
 "nbformat": 4,
 "nbformat_minor": 5
}
